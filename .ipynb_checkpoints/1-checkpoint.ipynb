{
 "cells": [
  {
   "cell_type": "markdown",
   "metadata": {},
   "source": [
    "### HashTable: Ransom Note"
   ]
  },
  {
   "cell_type": "code",
   "execution_count": 20,
   "metadata": {},
   "outputs": [
    {
     "name": "stdout",
     "output_type": "stream",
     "text": [
      "No\n"
     ]
    }
   ],
   "source": [
    "from collections import defaultdict\n",
    "from collections import Counter\n",
    "#(Counter(ransom)-Counter(magazine))=={}\n",
    "def ransom_note(magazine, ransom):\n",
    "    dicty = defaultdict(int)\n",
    "    for word in magazine:\n",
    "        dicty[word]+=1\n",
    "    for word in ransom: \n",
    "        if dicty[word]==0 : return False \n",
    "        dicty[word]-=1\n",
    "    print(dicty)\n",
    "    return True \n",
    "m = 6\n",
    "n = 4\n",
    "mag = \"give me one grand today night\"\n",
    "ran = \"give one grand one today\"\n",
    "magazine = mag.strip().split(' ')\n",
    "ransom = ran.strip().split(' ')\n",
    "answer = ransom_note(magazine, ransom)\n",
    "if(answer):\n",
    "    print(\"Yes\")\n",
    "else:\n",
    "    print(\"No\")"
   ]
  },
  {
   "cell_type": "markdown",
   "metadata": {
    "collapsed": true
   },
   "source": [
    "### Staircase"
   ]
  },
  {
   "cell_type": "code",
   "execution_count": 13,
   "metadata": {},
   "outputs": [
    {
     "name": "stdout",
     "output_type": "stream",
     "text": [
      "4\n",
      "   #\n",
      "  ##\n",
      " ###\n",
      "####\n"
     ]
    }
   ],
   "source": [
    "#!/bin/python3\n",
    "\n",
    "import os\n",
    "import sys\n",
    "\n",
    "#\n",
    "# Complete the staircase function below.\n",
    "#\n",
    "def staircase(n):\n",
    "    for i in range(1,n+1):\n",
    "        #print('{:>{len}}'.format('#'*(i+1), len=n))#change range to (0,n)\n",
    "        print(\" \"*(n-i)+\"#\"*i)\n",
    "        \n",
    "if __name__ == '__main__':\n",
    "    n = int(input())\n",
    "\n",
    "    staircase(n)\n"
   ]
  },
  {
   "cell_type": "markdown",
   "metadata": {
    "collapsed": true
   },
   "source": [
    "## CthCI Questions"
   ]
  },
  {
   "cell_type": "code",
   "execution_count": 1,
   "metadata": {
    "collapsed": true
   },
   "outputs": [],
   "source": [
    "# determine if a string has all unique characters\n",
    "import unittest\n",
    "def uniqueStr(test_str):\n",
    "    dict_str = {}\n",
    "    "
   ]
  },
  {
   "cell_type": "code",
   "execution_count": 3,
   "metadata": {},
   "outputs": [
    {
     "data": {
      "text/plain": [
       "False"
      ]
     },
     "execution_count": 3,
     "metadata": {},
     "output_type": "execute_result"
    }
   ],
   "source": [
    "import unittest\n",
    "def unique(string):\n",
    "    # Assuming character set is ASCII (128 characters)\n",
    "    if len(string) > 128:\n",
    "        return False\n",
    "\n",
    "    char_set = [False for _ in range(128)]\n",
    "    for char in string:\n",
    "        val = ord(char)\n",
    "        if char_set[val]:\n",
    "            # Char already found in string\n",
    "            return False\n",
    "        char_set[val] = True\n",
    "\n",
    "    return True\n",
    "\n",
    "unique(\"Hi\")\n",
    "unique(\"Hii\")"
   ]
  },
  {
   "cell_type": "code",
   "execution_count": 13,
   "metadata": {},
   "outputs": [
    {
     "name": "stdout",
     "output_type": "stream",
     "text": [
      "Counter({'H': 1})\n",
      "Counter({'H': 1, 'i': 1})\n"
     ]
    }
   ],
   "source": [
    "from collections import Counter\n",
    "\n",
    "def check_permutation(str1, str2):\n",
    "    if len(str1) != len(str2):\n",
    "        return False\n",
    "    counter = Counter()\n",
    "    for c in str1:\n",
    "        counter[c] += 1\n",
    "    for c in str2:\n",
    "        if counter[c] == 0:\n",
    "            return False\n",
    "        counter[c] -= 1\n",
    "    return True"
   ]
  },
  {
   "cell_type": "code",
   "execution_count": 8,
   "metadata": {},
   "outputs": [
    {
     "name": "stdout",
     "output_type": "stream",
     "text": [
      "36\n"
     ]
    }
   ],
   "source": [
    "\n",
    "limit=40\n",
    "x = 1\n",
    "while(x**2 <= limit):\n",
    "    nearest_square = x**2\n",
    "    x+=1\n",
    "print(nearest_square)\n",
    "    \n",
    "    "
   ]
  },
  {
   "cell_type": "code",
   "execution_count": 67,
   "metadata": {},
   "outputs": [
    {
     "name": "stdout",
     "output_type": "stream",
     "text": [
      "6\n",
      "{8: [8, 8], 4: [4, 4], 6: [6, 6], 2: [2], 7: [7], 9: [9], 5: [5]}\n"
     ]
    }
   ],
   "source": [
    "d = {}\n",
    "l = []\n",
    "#a=  [2, 1, 3, 5, 3, 2]\n",
    "a= [8, 4, 6, 2, 6, 4, 7, 9, 5, 8]\n",
    "#a= [2,1]\n",
    "for num in a:  \n",
    "    if num in d:\n",
    "        d[num].append(num)\n",
    "    else:\n",
    "        d[num] = [num]\n",
    "    if (len(d[num])==2):\n",
    "        l.append(d[num][0])\n",
    "if len(l)==0:\n",
    "    print('minus') #-1\n",
    "else:\n",
    "    print(l[0])\n",
    "print(d)\n",
    "#print(d)"
   ]
  },
  {
   "cell_type": "code",
   "execution_count": 63,
   "metadata": {},
   "outputs": [
    {
     "name": "stdout",
     "output_type": "stream",
     "text": [
      "['z', 'e', 'v', 's', 'd', 'h', 'q', 'k', 'n']\n"
     ]
    }
   ],
   "source": [
    "s = \"xdnxxlvupzuwgigeqjggosgljuhliybkjpibyatofcjbfxwtalc\"\n",
    "d = {}\n",
    "l = []\n",
    "for ch in s:\n",
    "    if ch in d:\n",
    "        d[ch].append(ch)\n",
    "    else:\n",
    "        d[ch] = [ch]\n",
    "for ch in set(s):\n",
    "    if(len(d[ch])==1):\n",
    "        l.append(d[ch][0])\n",
    "if len(l)==0:\n",
    "    print('minus') #-1\n",
    "else:\n",
    "    l.reverse()\n",
    "    print(l)"
   ]
  },
  {
   "cell_type": "markdown",
   "metadata": {},
   "source": [
    "## First Non Repeating Character"
   ]
  },
  {
   "cell_type": "code",
   "execution_count": 86,
   "metadata": {},
   "outputs": [
    {
     "name": "stdout",
     "output_type": "stream",
     "text": [
      "4\n",
      "4\n",
      "c\n"
     ]
    }
   ],
   "source": [
    "res = \"_\"\n",
    "d = {}\n",
    "s = \"aabbcdde\"\n",
    "#s= \"ngrhhqbhnsipkcoqjyviikvxbxyphsnjpdxkhtadltsuxbfbrkof\"\n",
    "for i,c in enumerate(s):\n",
    "    if c in d.keys():\n",
    "        d[c] = -1\n",
    "    else:\n",
    "        d[c] = i\n",
    "min_key = len(s)+1\n",
    "\n",
    "for k in d.keys():\n",
    "    if d[k]>=0:\n",
    "        min_key = min(min_key,d[k])\n",
    "        print(min_key)\n",
    "        res = s[min_key]\n",
    "print(res)"
   ]
  },
  {
   "cell_type": "code",
   "execution_count": 138,
   "metadata": {
    "collapsed": true
   },
   "outputs": [],
   "source": [
    "a = [[1, 2, 3],\n",
    "     [4, 5, 6],\n",
    "     [7, 8, 9]]"
   ]
  },
  {
   "cell_type": "code",
   "execution_count": 94,
   "metadata": {},
   "outputs": [
    {
     "name": "stdout",
     "output_type": "stream",
     "text": [
      "0\n",
      "1\n",
      "2\n"
     ]
    }
   ],
   "source": [
    "for i in range(len(a)):\n",
    "    cnt =  len(a)- i -1\n",
    "    print(i)"
   ]
  },
  {
   "cell_type": "code",
   "execution_count": 132,
   "metadata": {},
   "outputs": [
    {
     "name": "stdout",
     "output_type": "stream",
     "text": [
      "[1, 2, 3]\n",
      "[4, 5, 6]\n",
      "[7, 8, 9]\n"
     ]
    }
   ],
   "source": [
    "temp = []\n",
    "for i in range(len(a)):\n",
    "    print(a[i][::-1])\n",
    "    "
   ]
  },
  {
   "cell_type": "code",
   "execution_count": 135,
   "metadata": {},
   "outputs": [
    {
     "name": "stdout",
     "output_type": "stream",
     "text": [
      "[[9 6 3]\n",
      " [8 5 2]\n",
      " [7 4 1]]\n"
     ]
    }
   ],
   "source": [
    "import numpy as np\n",
    "print(np.transpose(np.array(a[::-1])))"
   ]
  },
  {
   "cell_type": "code",
   "execution_count": null,
   "metadata": {
    "collapsed": true
   },
   "outputs": [],
   "source": [
    "[[9, 8, 7], \n",
    " [6, 5, 4], \n",
    " [3, 2, 1]]"
   ]
  },
  {
   "cell_type": "code",
   "execution_count": 136,
   "metadata": {
    "collapsed": true
   },
   "outputs": [],
   "source": [
    "a[:] = zip(*a[::-1])\n"
   ]
  },
  {
   "cell_type": "code",
   "execution_count": 141,
   "metadata": {},
   "outputs": [
    {
     "name": "stdout",
     "output_type": "stream",
     "text": [
      "<zip object at 0x103bec088>\n"
     ]
    }
   ],
   "source": [
    "print(zip(*a[::-1]))"
   ]
  },
  {
   "cell_type": "code",
   "execution_count": 151,
   "metadata": {
    "collapsed": true
   },
   "outputs": [],
   "source": [
    "def test(a):\n",
    "    aDict={}\n",
    "    for x in a:\n",
    "        if x in aDict:\n",
    "            return x\n",
    "        else:\n",
    "            aDict[x]=1\n",
    "    if len(aDict)==len(set(a)):\n",
    "        return -1"
   ]
  },
  {
   "cell_type": "code",
   "execution_count": 153,
   "metadata": {},
   "outputs": [
    {
     "data": {
      "text/plain": [
       "6"
      ]
     },
     "execution_count": 153,
     "metadata": {},
     "output_type": "execute_result"
    }
   ],
   "source": [
    "#a= [2, 4, 3, 5, 1]\n",
    "a= [8, 4, 6, 2, 6, 4, 7, 9, 5, 8]\n",
    "test(a)"
   ]
  },
  {
   "cell_type": "code",
   "execution_count": 8,
   "metadata": {
    "collapsed": true
   },
   "outputs": [],
   "source": [
    "ids = [4,1,1,1]\n",
    "d = {}\n",
    "for i in ids:\n",
    "    if i in d:\n",
    "        d[i]+= 1\n",
    "    else:\n",
    "        d[i] = 1"
   ]
  },
  {
   "cell_type": "code",
   "execution_count": 9,
   "metadata": {},
   "outputs": [
    {
     "data": {
      "text/plain": [
       "{1: 3, 4: 1}"
      ]
     },
     "execution_count": 9,
     "metadata": {},
     "output_type": "execute_result"
    }
   ],
   "source": [
    "d"
   ]
  },
  {
   "cell_type": "code",
   "execution_count": 10,
   "metadata": {},
   "outputs": [
    {
     "data": {
      "text/plain": [
       "[1, 4]"
      ]
     },
     "execution_count": 10,
     "metadata": {},
     "output_type": "execute_result"
    }
   ],
   "source": [
    "sorted(d)"
   ]
  },
  {
   "cell_type": "code",
   "execution_count": 14,
   "metadata": {},
   "outputs": [
    {
     "name": "stdout",
     "output_type": "stream",
     "text": [
      "4\n",
      "1\n"
     ]
    }
   ],
   "source": [
    "for i in d.keys():\n",
    "    print(i)"
   ]
  },
  {
   "cell_type": "code",
   "execution_count": 15,
   "metadata": {},
   "outputs": [
    {
     "data": {
      "text/plain": [
       "3"
      ]
     },
     "execution_count": 15,
     "metadata": {},
     "output_type": "execute_result"
    }
   ],
   "source": [
    "d[1]"
   ]
  },
  {
   "cell_type": "code",
   "execution_count": 22,
   "metadata": {
    "collapsed": true
   },
   "outputs": [],
   "source": [
    "ids = [6,1,2,3,1,2,2]"
   ]
  },
  {
   "cell_type": "code",
   "execution_count": 17,
   "metadata": {},
   "outputs": [
    {
     "data": {
      "text/plain": [
       "{1, 2, 3, 6}"
      ]
     },
     "execution_count": 17,
     "metadata": {},
     "output_type": "execute_result"
    }
   ],
   "source": [
    "set(arr)"
   ]
  },
  {
   "cell_type": "code",
   "execution_count": 35,
   "metadata": {},
   "outputs": [
    {
     "name": "stdout",
     "output_type": "stream",
     "text": [
      "2\n"
     ]
    }
   ],
   "source": [
    "dict1 = {}\n",
    "counter = 0\n",
    "m=3\n",
    "for i in ids:\n",
    "    if i in dict1:\n",
    "        dict1[i] += 1\n",
    "    else:\n",
    "        dict1[i] = 1\n",
    "size = len(dict1)\n",
    "k = dict1.keys()\n",
    "for i in sorted(k):\n",
    "    if dict1[i] <= m:\n",
    "        m -= dict1[i]\n",
    "        counter += 1\n",
    "print(counter)"
   ]
  },
  {
   "cell_type": "code",
   "execution_count": 27,
   "metadata": {},
   "outputs": [
    {
     "data": {
      "text/plain": [
       "[1, 2, 3, 6]"
      ]
     },
     "execution_count": 27,
     "metadata": {},
     "output_type": "execute_result"
    }
   ],
   "source": [
    "sorted(k)"
   ]
  },
  {
   "cell_type": "code",
   "execution_count": 31,
   "metadata": {},
   "outputs": [
    {
     "data": {
      "text/plain": [
       "2"
      ]
     },
     "execution_count": 31,
     "metadata": {},
     "output_type": "execute_result"
    }
   ],
   "source": [
    "dict1[1]"
   ]
  },
  {
   "cell_type": "code",
   "execution_count": 36,
   "metadata": {},
   "outputs": [
    {
     "data": {
      "text/plain": [
       "{1: 2, 2: 3, 3: 1, 6: 1}"
      ]
     },
     "execution_count": 36,
     "metadata": {},
     "output_type": "execute_result"
    }
   ],
   "source": [
    "dict1"
   ]
  },
  {
   "cell_type": "code",
   "execution_count": 37,
   "metadata": {
    "collapsed": true
   },
   "outputs": [],
   "source": [
    "a = [6,\n",
    "1,\n",
    "3,\n",
    "46,\n",
    "1,\n",
    "3,\n",
    "9]\n",
    "k=47"
   ]
  },
  {
   "cell_type": "code",
   "execution_count": 40,
   "metadata": {},
   "outputs": [
    {
     "name": "stdout",
     "output_type": "stream",
     "text": [
      "1\n"
     ]
    }
   ],
   "source": [
    "    result = []\n",
    "    dict1 = {}\n",
    "    for i in a:\n",
    "        l1 = []\n",
    "        if i in dict1:\n",
    "            l1.append(i)\n",
    "            l1.append(dict1[i])\n",
    "            if result not in l1:\n",
    "                result.append(l1)\n",
    "        else:\n",
    "            dict1[k-i] = i\n",
    "    print(len(result))"
   ]
  },
  {
   "cell_type": "markdown",
   "metadata": {},
   "source": [
    "## Insertion Sort."
   ]
  },
  {
   "cell_type": "code",
   "execution_count": 24,
   "metadata": {
    "collapsed": true
   },
   "outputs": [],
   "source": [
    "def iSort(arr):\n",
    "    for j in range(1,len(arr)):\n",
    "        key = arr[j]\n",
    "        i = j-1\n",
    "        while i>=0 and arr[i]>key:\n",
    "            arr[i+1] = arr[i]\n",
    "            i-=1\n",
    "        arr[i+1] = key\n",
    "    return arr"
   ]
  },
  {
   "cell_type": "code",
   "execution_count": 113,
   "metadata": {},
   "outputs": [
    {
     "data": {
      "text/plain": [
       "[1, 2, 3, 4, 6, 7, 9]"
      ]
     },
     "execution_count": 113,
     "metadata": {},
     "output_type": "execute_result"
    }
   ],
   "source": [
    "arr = [9,1,2,7,4,3,6]\n",
    "iSort(arr)"
   ]
  },
  {
   "cell_type": "markdown",
   "metadata": {},
   "source": [
    "## Merge Sort."
   ]
  },
  {
   "cell_type": "code",
   "execution_count": 111,
   "metadata": {
    "collapsed": true
   },
   "outputs": [],
   "source": [
    "def merge_sort(A):\n",
    "    \"\"\"\n",
    "    Sort list A into order, and return result.\n",
    "    \"\"\"\n",
    "    n = len(A)\n",
    "    if n==1: \n",
    "        return A\n",
    "    mid = n//2     # floor division\n",
    "    L = merge_sort(A[:mid])\n",
    "    R = merge_sort(A[mid:])\n",
    "    return merge(L,R)\n",
    "\n",
    "def merge(L,R):\n",
    "    \"\"\"\n",
    "    Given two sorted sequences L and R, return their merge.\n",
    "    \"\"\"\n",
    "    i = 0\n",
    "    j = 0\n",
    "    answer = []\n",
    "    while i<len(L) and j<len(R):\n",
    "        if L[i]<R[j]:\n",
    "            answer.append(L[i])\n",
    "            i += 1\n",
    "        else:\n",
    "            answer.append(R[j])\n",
    "            j += 1\n",
    "    if i<len(L):\n",
    "        answer.extend(L[i:])\n",
    "    if j<len(R):\n",
    "        answer.extend(R[j:])\n",
    "    return answer"
   ]
  },
  {
   "cell_type": "markdown",
   "metadata": {},
   "source": [
    "## Linked List"
   ]
  },
  {
   "cell_type": "code",
   "execution_count": 2,
   "metadata": {
    "collapsed": true
   },
   "outputs": [],
   "source": [
    "class Node:\n",
    "    def __init__(self,data):\n",
    "        self.data = data\n",
    "        self.next = None\n",
    "        "
   ]
  },
  {
   "cell_type": "code",
   "execution_count": 16,
   "metadata": {},
   "outputs": [
    {
     "name": "stdout",
     "output_type": "stream",
     "text": [
      "7\n",
      "6\n",
      "5\n",
      "4\n"
     ]
    }
   ],
   "source": [
    "class LinkedList:\n",
    "    def __init__(self):\n",
    "        self.head = None\n",
    "    \n",
    "    def reverse_list(self,head):\n",
    "        \n",
    "        reversed_list = None\n",
    "        list_do = self.head\n",
    "        \n",
    "        while(list_do != None):\n",
    "            temp = list_do\n",
    "            list_do = list_do.next\n",
    "            \n",
    "            temp.next = reversed_list\n",
    "            reversed_list = temp\n",
    "        self.head = reversed_list\n",
    "        curr = self.head\n",
    "        \n",
    "        while(temp != None):\n",
    "            print(temp.data)\n",
    "            temp = temp.next\n",
    "            \n",
    "\n",
    "        \n",
    "if __name__ == '__main__':\n",
    "    llist = LinkedList()\n",
    "    llist.head = Node(4)\n",
    "    first = Node(5)\n",
    "    second = Node(6)\n",
    "    third = Node(7)\n",
    "    llist.head.next = first\n",
    "    first.next = second\n",
    "    second.next = third\n",
    "    #llist.reverse_even(llist.head)\n",
    "    llist.reverse_list(llist.head)\n",
    "    "
   ]
  },
  {
   "cell_type": "code",
   "execution_count": 7,
   "metadata": {
    "scrolled": true
   },
   "outputs": [
    {
     "name": "stdout",
     "output_type": "stream",
     "text": [
      "5\n",
      "6\n",
      "7\n",
      "8\n",
      "9\n"
     ]
    }
   ],
   "source": [
    "class Node:\n",
    "    def __init__(self,data):\n",
    "        self.data = data\n",
    "        self.prev = None\n",
    "        self.next = None\n",
    "    \n",
    "class DoublyList:\n",
    "    def __init__(self):\n",
    "        self.head = None\n",
    "    \n",
    "    def add_Node_front(self,data):\n",
    "        newdata = Node(data)\n",
    "        \n",
    "        newdata.next = self.head\n",
    "        if self.head != None:\n",
    "            self.head.prev = newdata\n",
    "        \n",
    "        self.head = newdata\n",
    "    \n",
    "    def add_Node_after(self,prev_node,data):\n",
    "        newdata = Node(data)\n",
    "        #1. if head is None then add to head\n",
    "        #2. prev is the ptr to the data after which data has to be appended\n",
    "        #  None<--5<==>6<==>7<==>9-->None\n",
    "        # to add 8 in the above doubly linked list\n",
    "        newdata.next = prev_node.next\n",
    "        prev_node.next = newdata\n",
    "        newdata.prev = prev_node\n",
    "        \n",
    "        if newdata.next is not None:\n",
    "            newdata.next.prev = newdata\n",
    "        \n",
    "    \n",
    "    def print_list(self):\n",
    "        curr = self.head\n",
    "        while(curr != None):\n",
    "            print(curr.data)\n",
    "            curr = curr.next\n",
    "        \n",
    "if __name__ == '__main__':\n",
    "    Dlist = DoublyList()\n",
    "    Dlist.head = Node(5)\n",
    "    first = Node(6)\n",
    "    second = Node(7)\n",
    "    third = Node(9)\n",
    "    Dlist.head.next = first\n",
    "    first.next = second\n",
    "    second.next = third\n",
    "    \n",
    "    first.prev = Dlist\n",
    "    second.prev = first\n",
    "    third.prev = second\n",
    "    Dlist.add_Node_after(Dlist.head.next.next,8)\n",
    "    #Dlist.add_Node_front(2)\n",
    "    Dlist.print_list()\n",
    "    "
   ]
  },
  {
   "cell_type": "code",
   "execution_count": 239,
   "metadata": {
    "scrolled": true
   },
   "outputs": [
    {
     "name": "stdout",
     "output_type": "stream",
     "text": [
      "Enqueued: 40\n",
      "Enqueued: 30\n",
      "Enqueued: 20\n",
      "Dequeued: 40\n"
     ]
    }
   ],
   "source": [
    "class Queue:\n",
    "    \n",
    "    def __init__(self,capacity):\n",
    "        self.front = self.size = 0\n",
    "        self.rear = capacity-1\n",
    "        self.Q = [None] * capacity\n",
    "        self.capacity = capacity\n",
    "        \n",
    "        \n",
    "    def isFull(self):\n",
    "        return self.size == self.capacity\n",
    "    \n",
    "    def isEmpty(self):\n",
    "        return self.capacity == 0\n",
    "    \n",
    "    def enqueue(self,data):\n",
    "        if self.isFull():\n",
    "            print(\"Full\")\n",
    "            return\n",
    "        self.rear = (self.rear+1) % self.capacity\n",
    "        self.Q[self.rear] = data\n",
    "        self.size += 1\n",
    "        print(\"Enqueued: {}\".format(data))\n",
    "        \n",
    "    def dequeue(self):\n",
    "        if self.isEmpty():\n",
    "            print(\"Empty\")\n",
    "            return\n",
    "        print(\"Dequeued: {}\".format(self.Q[self.front]))\n",
    "        self.front = (self.front+1) % self.capacity\n",
    "        self.size -= 1\n",
    "        \n",
    "        \n",
    "if __name__ == '__main__':\n",
    "    q = Queue(20)\n",
    "    q.enqueue(40)\n",
    "    q.enqueue(30)\n",
    "    q.enqueue(20)\n",
    "    q.dequeue()"
   ]
  },
  {
   "cell_type": "code",
   "execution_count": 244,
   "metadata": {
    "collapsed": true
   },
   "outputs": [],
   "source": [
    "from collections import deque\n"
   ]
  },
  {
   "cell_type": "code",
   "execution_count": 253,
   "metadata": {},
   "outputs": [
    {
     "data": {
      "text/plain": [
       "<function deque.append>"
      ]
     },
     "execution_count": 253,
     "metadata": {},
     "output_type": "execute_result"
    }
   ],
   "source": [
    "d = deque()\n",
    "d.append(5)\n",
    "d.append(6) "
   ]
  },
  {
   "cell_type": "code",
   "execution_count": 254,
   "metadata": {},
   "outputs": [
    {
     "data": {
      "text/plain": [
       "5"
      ]
     },
     "execution_count": 254,
     "metadata": {},
     "output_type": "execute_result"
    }
   ],
   "source": [
    "d.popleft()"
   ]
  },
  {
   "cell_type": "code",
   "execution_count": 6,
   "metadata": {
    "collapsed": true
   },
   "outputs": [],
   "source": [
    "d = []\n",
    "for i in range(5+1):\n",
    "    d.append([])\n",
    "    for j in range(4+1):\n",
    "        d[i].append(0)\n"
   ]
  },
  {
   "cell_type": "code",
   "execution_count": 10,
   "metadata": {
    "collapsed": true
   },
   "outputs": [],
   "source": [
    "l1 = [1,2,3]"
   ]
  },
  {
   "cell_type": "code",
   "execution_count": 13,
   "metadata": {},
   "outputs": [
    {
     "data": {
      "text/plain": [
       "[2, 1]"
      ]
     },
     "execution_count": 13,
     "metadata": {},
     "output_type": "execute_result"
    }
   ],
   "source": [
    "l1[::-1]"
   ]
  },
  {
   "cell_type": "markdown",
   "metadata": {},
   "source": [
    "## Binary Trees"
   ]
  },
  {
   "cell_type": "code",
   "execution_count": 77,
   "metadata": {
    "collapsed": true
   },
   "outputs": [],
   "source": [
    "class Node:\n",
    "    def __init__(self,val):\n",
    "        self.left = None\n",
    "        self.right = None\n",
    "        self.data = val\n",
    "        \n",
    "root = Node(1)\n",
    "        \n",
    "root.left = Node(2)\n",
    "\n",
    "root.left.left = Node(4)\n",
    "\n",
    "root.left.left.left = Node(9)\n",
    "\n",
    "root.left.right = Node(5)\n",
    "\n",
    "root.left.right.right = Node(8)\n",
    "\n",
    "root.right = Node(3)\n",
    "\n",
    "root.right.right = Node(7)\n",
    "\n",
    "root.right.right.right =  Node(10)\n",
    "        \n",
    "#             1\n",
    "#            / \\\n",
    "#           2   3\n",
    "#          / \\   \\\n",
    "#         4   5   7\n",
    "#        /     \\   \\\n",
    "#       9       8   10\n",
    "\n"
   ]
  },
  {
   "cell_type": "code",
   "execution_count": 78,
   "metadata": {
    "collapsed": true
   },
   "outputs": [],
   "source": [
    "def printLeaves(root):\n",
    "    if(root):\n",
    "        printLeaves(root.left)\n",
    "\n",
    "        if root.left == None and root.right == None:\n",
    "            print(root.data)\n",
    "\n",
    "        printLeaves(root.right)"
   ]
  },
  {
   "cell_type": "code",
   "execution_count": 79,
   "metadata": {
    "collapsed": true
   },
   "outputs": [],
   "source": [
    "def printLeftBoundary(root):\n",
    "    if (root):\n",
    "        if root.left:\n",
    "            print(root.data)\n",
    "            printLeftBoundary(root.left)\n",
    "        elif(root.right):\n",
    "            print(root.data)\n",
    "            printLeftBoundary(root.right)"
   ]
  },
  {
   "cell_type": "code",
   "execution_count": 81,
   "metadata": {
    "collapsed": true
   },
   "outputs": [],
   "source": [
    "def printRightBoundary(root):\n",
    "    if(root):\n",
    "        if root.right:\n",
    "            printRightBoundary(root.right)\n",
    "            print(root.data)\n",
    "        elif root.left:\n",
    "            printRightBoundary(root.left)\n",
    "            print(root.data) "
   ]
  },
  {
   "cell_type": "code",
   "execution_count": 84,
   "metadata": {
    "collapsed": true
   },
   "outputs": [],
   "source": [
    "def printRightBoundary_iterative(root):\n",
    "    stack = []\n",
    "    while(root):\n",
    "        curr = root.data\n",
    "        if root.right != None:\n",
    "            root = root.right\n",
    "        elif root.left != None:\n",
    "            root = root.left\n",
    "        else:\n",
    "            break\n",
    "        stack.append(curr)\n",
    "    while len(stack) != 0:\n",
    "        print(stack.pop())\n",
    "        "
   ]
  },
  {
   "cell_type": "code",
   "execution_count": 85,
   "metadata": {
    "collapsed": true
   },
   "outputs": [],
   "source": [
    "def printBoundary(root):\n",
    "    if root == None:\n",
    "        return\n",
    "    else:\n",
    "        print(root.data)\n",
    "        printLeftBoundary(root.left)\n",
    "        printLeaves(root.left)\n",
    "        printLeaves(root.right)\n",
    "        #printRightBoundary(root.right)\n",
    "        printRightBoundary_iterative(root.right)\n",
    "\n",
    "        "
   ]
  },
  {
   "cell_type": "code",
   "execution_count": 86,
   "metadata": {},
   "outputs": [
    {
     "name": "stdout",
     "output_type": "stream",
     "text": [
      "1\n",
      "2\n",
      "4\n",
      "9\n",
      "8\n",
      "10\n",
      "7\n",
      "3\n"
     ]
    }
   ],
   "source": [
    "printBoundary(root)"
   ]
  },
  {
   "cell_type": "markdown",
   "metadata": {},
   "source": [
    "## Return a new sorted merged list from K sorted lists, each with size N"
   ]
  },
  {
   "cell_type": "code",
   "execution_count": 87,
   "metadata": {
    "collapsed": true
   },
   "outputs": [],
   "source": [
    "unsorted = [[10,15,30], [12,15,20], [17,20,32]]\n",
    "# initialize heap\n",
    "k tuples\n",
    "one for the index for which list among the list of lists the element lives\n",
    "one for the element index where the element lives\n",
    "and value of the element"
   ]
  },
  {
   "cell_type": "code",
   "execution_count": 100,
   "metadata": {
    "collapsed": true
   },
   "outputs": [],
   "source": [
    "import heapq"
   ]
  },
  {
   "cell_type": "code",
   "execution_count": 96,
   "metadata": {
    "collapsed": true
   },
   "outputs": [],
   "source": [
    "heap = [(lst[0],i,0) for i,lst in enumerate(unsorted) ]\n"
   ]
  },
  {
   "cell_type": "code",
   "execution_count": 89,
   "metadata": {},
   "outputs": [
    {
     "data": {
      "text/plain": [
       "[(10, 0, 0), (12, 1, 0), (17, 2, 0)]"
      ]
     },
     "execution_count": 89,
     "metadata": {},
     "output_type": "execute_result"
    }
   ],
   "source": [
    "heapq"
   ]
  },
  {
   "cell_type": "code",
   "execution_count": 101,
   "metadata": {
    "collapsed": true
   },
   "outputs": [],
   "source": [
    "heapq.heapify(heap)"
   ]
  },
  {
   "cell_type": "code",
   "execution_count": 104,
   "metadata": {
    "collapsed": true
   },
   "outputs": [],
   "source": [
    "val,list_ind,el_ind = heapq.heappop(heap)\n"
   ]
  },
  {
   "cell_type": "code",
   "execution_count": 123,
   "metadata": {
    "collapsed": true
   },
   "outputs": [],
   "source": [
    "def merge(lists):\n",
    "    merged_list = []\n",
    "\n",
    "    heap = [(lst[0], i, 0) for i, lst in enumerate(lists) if lst]\n",
    "    heapq.heapify(heap)\n",
    "\n",
    "    while heap:\n",
    "        print(heap)\n",
    "        val, list_ind, element_ind = heapq.heappop(heap)\n",
    "\n",
    "        merged_list.append(val)\n",
    "        if element_ind + 1 < len(lists[list_ind]): \n",
    "            next_tuple = (lists[list_ind][element_ind + 1],\n",
    "                          list_ind,\n",
    "                          element_ind + 1)\n",
    "            heapq.heappush(heap, next_tuple)\n",
    "    \n",
    "    return merged_list\n"
   ]
  },
  {
   "cell_type": "code",
   "execution_count": 124,
   "metadata": {
    "scrolled": true
   },
   "outputs": [
    {
     "name": "stdout",
     "output_type": "stream",
     "text": [
      "[(10, 0, 0), (12, 1, 0), (17, 2, 0)]\n",
      "0\n",
      "[(12, 1, 0), (17, 2, 0), (15, 0, 1)]\n",
      "1\n",
      "[(15, 0, 1), (17, 2, 0), (15, 1, 1)]\n",
      "0\n",
      "[(15, 1, 1), (17, 2, 0), (30, 0, 2)]\n",
      "1\n",
      "[(17, 2, 0), (30, 0, 2), (20, 1, 2)]\n",
      "2\n",
      "[(20, 1, 2), (30, 0, 2), (20, 2, 1)]\n",
      "[(20, 2, 1), (30, 0, 2)]\n",
      "2\n",
      "[(30, 0, 2), (32, 2, 2)]\n",
      "[(32, 2, 2)]\n"
     ]
    },
    {
     "data": {
      "text/plain": [
       "[10, 12, 15, 15, 17, 20, 20, 30, 32]"
      ]
     },
     "execution_count": 124,
     "metadata": {},
     "output_type": "execute_result"
    }
   ],
   "source": [
    "merge(unsorted)"
   ]
  },
  {
   "cell_type": "code",
   "execution_count": 17,
   "metadata": {
    "collapsed": true
   },
   "outputs": [],
   "source": [
    "l1 = [1,2,3]"
   ]
  },
  {
   "cell_type": "code",
   "execution_count": null,
   "metadata": {
    "collapsed": true
   },
   "outputs": [],
   "source": []
  }
 ],
 "metadata": {
  "kernelspec": {
   "display_name": "Python 3",
   "language": "python",
   "name": "python3"
  },
  "language_info": {
   "codemirror_mode": {
    "name": "ipython",
    "version": 3
   },
   "file_extension": ".py",
   "mimetype": "text/x-python",
   "name": "python",
   "nbconvert_exporter": "python",
   "pygments_lexer": "ipython3",
   "version": "3.6.1"
  }
 },
 "nbformat": 4,
 "nbformat_minor": 2
}
