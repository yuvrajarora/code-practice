{
 "cells": [
  {
   "cell_type": "markdown",
   "metadata": {},
   "source": [
    "### HashTable: Ransom Note"
   ]
  },
  {
   "cell_type": "code",
   "execution_count": 20,
   "metadata": {},
   "outputs": [
    {
     "name": "stdout",
     "output_type": "stream",
     "text": [
      "No\n"
     ]
    }
   ],
   "source": [
    "from collections import defaultdict\n",
    "from collections import Counter\n",
    "#(Counter(ransom)-Counter(magazine))=={}\n",
    "def ransom_note(magazine, ransom):\n",
    "    dicty = defaultdict(int)\n",
    "    for word in magazine:\n",
    "        dicty[word]+=1\n",
    "    for word in ransom: \n",
    "        if dicty[word]==0 : return False \n",
    "        dicty[word]-=1\n",
    "    print(dicty)\n",
    "    return True \n",
    "m = 6\n",
    "n = 4\n",
    "mag = \"give me one grand today night\"\n",
    "ran = \"give one grand one today\"\n",
    "magazine = mag.strip().split(' ')\n",
    "ransom = ran.strip().split(' ')\n",
    "answer = ransom_note(magazine, ransom)\n",
    "if(answer):\n",
    "    print(\"Yes\")\n",
    "else:\n",
    "    print(\"No\")"
   ]
  },
  {
   "cell_type": "code",
   "execution_count": null,
   "metadata": {
    "collapsed": true
   },
   "outputs": [],
   "source": []
  }
 ],
 "metadata": {
  "kernelspec": {
   "display_name": "Python 3",
   "language": "python",
   "name": "python3"
  },
  "language_info": {
   "codemirror_mode": {
    "name": "ipython",
    "version": 3
   },
   "file_extension": ".py",
   "mimetype": "text/x-python",
   "name": "python",
   "nbconvert_exporter": "python",
   "pygments_lexer": "ipython3",
   "version": "3.6.1"
  }
 },
 "nbformat": 4,
 "nbformat_minor": 2
}
